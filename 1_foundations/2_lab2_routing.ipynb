{
 "cells": [
  {
   "cell_type": "markdown",
   "metadata": {},
   "source": [
    "## Welcome to the Second Lab - Week 1, Day 3\n",
    "\n",
    "Today we will work with lots of models! This is a way to get comfortable with APIs."
   ]
  },
  {
   "cell_type": "markdown",
   "metadata": {},
   "source": [
    "<table style=\"margin: 0; text-align: left; width:100%\">\n",
    "    <tr>\n",
    "        <td style=\"width: 150px; height: 150px; vertical-align: middle;\">\n",
    "            <img src=\"../assets/stop.png\" width=\"150\" height=\"150\" style=\"display: block;\" />\n",
    "        </td>\n",
    "        <td>\n",
    "            <h2 style=\"color:#ff7800;\">Important point - please read</h2>\n",
    "            <span style=\"color:#ff7800;\">The way I collaborate with you may be different to other courses you've taken. I prefer not to type code while you watch. Rather, I execute Jupyter Labs, like this, and give you an intuition for what's going on. My suggestion is that you carefully execute this yourself, <b>after</b> watching the lecture. Add print statements to understand what's going on, and then come up with your own variations.<br/><br/>If you have time, I'd love it if you submit a PR for changes in the community_contributions folder - instructions in the resources. Also, if you have a Github account, use this to showcase your variations. Not only is this essential practice, but it demonstrates your skills to others, including perhaps future clients or employers...\n",
    "            </span>\n",
    "        </td>\n",
    "    </tr>\n",
    "</table>"
   ]
  },
  {
   "cell_type": "code",
   "execution_count": 1,
   "metadata": {},
   "outputs": [],
   "source": [
    "# Start with imports - ask ChatGPT to explain any package that you don't know\n",
    "\n",
    "import os\n",
    "import json\n",
    "from dotenv import load_dotenv\n",
    "from openai import OpenAI\n",
    "from IPython.display import Markdown, display"
   ]
  },
  {
   "cell_type": "code",
   "execution_count": 2,
   "metadata": {},
   "outputs": [
    {
     "data": {
      "text/plain": [
       "True"
      ]
     },
     "execution_count": 2,
     "metadata": {},
     "output_type": "execute_result"
    }
   ],
   "source": [
    "# Always remember to do this!\n",
    "load_dotenv(override=True)"
   ]
  },
  {
   "cell_type": "code",
   "execution_count": null,
   "metadata": {},
   "outputs": [
    {
     "name": "stdout",
     "output_type": "stream",
     "text": [
      "OpenAI API Key exists and begins sk-proj-\n",
      "Google API Key exists and begins AI\n"
     ]
    }
   ],
   "source": [
    "# Print the key prefixes to help with any debugging\n",
    "# For the following, I will only be using openiAI (free) and gemini (free up to certain tier)\n",
    "\n",
    "openai_api_key = os.getenv('OPENAI_API_KEY')\n",
    "google_api_key = os.getenv('GOOGLE_API_KEY')\n",
    "\n",
    "if openai_api_key:\n",
    "    print(f\"OpenAI API Key exists and begins {openai_api_key[:8]}\")\n",
    "else:\n",
    "    print(\"OpenAI API Key not set\")\n",
    "\n",
    "if google_api_key:\n",
    "    print(f\"Google API Key exists and begins {google_api_key[:2]}\")\n",
    "else:\n",
    "    print(\"Google API Key not set (and this is optional)\")"
   ]
  },
  {
   "cell_type": "markdown",
   "metadata": {},
   "source": [
    "For the following program, I would like to try and do a routing approach, by splitting the task into the the x partitions (x based on the LLMs which are being used)\n"
   ]
  },
  {
   "cell_type": "code",
   "execution_count": 3,
   "metadata": {},
   "outputs": [],
   "source": [
    "request = \"Please come up with a challenging, nuanced question that I can ask a number of LLMs to evaluate their intelligence. \"\n",
    "request += \"Answer only with the question, no explanation.\"\n",
    "messages = [{\"role\": \"user\", \"content\": request}]"
   ]
  },
  {
   "cell_type": "code",
   "execution_count": 4,
   "metadata": {},
   "outputs": [
    {
     "data": {
      "text/plain": [
       "[{'role': 'user',\n",
       "  'content': 'Please come up with a challenging, nuanced question that I can ask a number of LLMs to evaluate their intelligence. Answer only with the question, no explanation.'}]"
      ]
     },
     "execution_count": 4,
     "metadata": {},
     "output_type": "execute_result"
    }
   ],
   "source": [
    "messages"
   ]
  },
  {
   "cell_type": "code",
   "execution_count": 15,
   "metadata": {},
   "outputs": [
    {
     "name": "stdout",
     "output_type": "stream",
     "text": [
      "How would you approach reconciling conflicting evidence from two reputable sources on a controversial scientific topic, and what criteria would you use to determine which source to trust?\n"
     ]
    }
   ],
   "source": [
    "# Question generator\n",
    "openai = OpenAI()\n",
    "question_delegator_model = \"gpt-4o-mini\"\n",
    "\n",
    "response = openai.chat.completions.create(\n",
    "    model=question_delegator_model,\n",
    "    messages=messages,\n",
    ")\n",
    "question = response.choices[0].message.content\n",
    "print(question)"
   ]
  },
  {
   "cell_type": "code",
   "execution_count": 79,
   "metadata": {},
   "outputs": [],
   "source": [
    "Agents = []\n",
    "Responses = []\n",
    "\n",
    "Agents.append(\"openai\")\n",
    "Agents.append(\"gemini\")\n",
    "\n",
    "# This question will be broken down into sub tasks. Which will then be broken down into x parititions\n",
    "updated_question = f\"{question} I want you to break down the presented question into {len(Agents)} independant tasks. This is so that the \"\n",
    "updated_question += \"Respond with only a numbered list of each task. Include the original question at the start in quotation marks. I want the question on the first line, and no spaces.\"\n",
    "updated_message = [{\"role\": \"user\", \"content\": updated_question}]"
   ]
  },
  {
   "cell_type": "markdown",
   "metadata": {},
   "source": [
    "Partitioning"
   ]
  },
  {
   "cell_type": "code",
   "execution_count": 80,
   "metadata": {},
   "outputs": [],
   "source": [
    "def model_reponse_generation(model_name: str, message: str):\n",
    "    response = openai.chat.completions.create(model=model_name, messages=message)\n",
    "    return response.choices[0].message.content"
   ]
  },
  {
   "cell_type": "code",
   "execution_count": 81,
   "metadata": {},
   "outputs": [],
   "source": [
    "partitioned_response = model_reponse_generation(question_delegator_model, updated_message)"
   ]
  },
  {
   "cell_type": "code",
   "execution_count": null,
   "metadata": {},
   "outputs": [
    {
     "name": "stdout",
     "output_type": "stream",
     "text": [
      "\"How would you approach reconciling conflicting evidence from two reputable sources on a controversial scientific topic, and what criteria would you use to determine which source to trust?\"  \n",
      "1. Identify the key points of conflict between the two sources, including the specific claims or data that are at odds.  \n",
      "2. Establish criteria for evaluating the credibility of each source, such as authorship, peer review status, citation metrics, the robustness of the methodology, and the presence of conflicts of interest.\n"
     ]
    }
   ],
   "source": [
    "print(partitioned_response)\n",
    "\n",
    "# A function which produces and output response as the original input. It should \n",
    "string_partitioned_response = partitioned_response.splitlines()"
   ]
  },
  {
   "cell_type": "code",
   "execution_count": null,
   "metadata": {},
   "outputs": [
    {
     "name": "stdout",
     "output_type": "stream",
     "text": [
      "['\"How would you approach reconciling conflicting evidence from two reputable sources on a controversial scientific topic, and what criteria would you use to determine which source to trust?\"  ', '1. Identify the key points of conflict between the two sources, including the specific claims or data that are at odds.  ', '2. Establish criteria for evaluating the credibility of each source, such as authorship, peer review status, citation metrics, the robustness of the methodology, and the presence of conflicts of interest.']\n"
     ]
    }
   ],
   "source": [
    "# model_name = \"gpt-4o-mini\"\n",
    "# response = openai.chat.completions.create(model=model_name, messages=messages)\n",
    "# answer = response.choices[0].message.content\n",
    "# display(Markdown(answer))\n",
    "# competitors.append(model_name)\n",
    "# answers.append(answer)"
   ]
  },
  {
   "cell_type": "code",
   "execution_count": null,
   "metadata": {},
   "outputs": [],
   "source": [
    "request_task_1 = f\"{string_partitioned_response[0]}. Based on question, answer the following: {string_partitioned_response[1]}\"\n",
    "request_task_2 = f\"{string_partitioned_response[0]}. Based on question, answer the following: {string_partitioned_response[2]}\"\n",
    "\n",
    "message_1 = [{\"role\": \"user\", \"content\": request_task_1}]\n",
    "message_2 = [{\"role\": \"user\", \"content\": request_task_2}]\n",
    "\n",
    "response_1 = openai.chat.completions.create(model=\"gpt-4o-mini\", messages=message_1)\n",
    "\n",
    "gemini = OpenAI(api_key=google_api_key, base_url=\"https://generativelanguage.googleapis.com/v1beta/openai/\")\n",
    "response_2 = gemini.chat.completions.create(model=\"gemini-2.0-flash\", messages=message_2)\n",
    "\n",
    "\n"
   ]
  },
  {
   "cell_type": "code",
   "execution_count": null,
   "metadata": {},
   "outputs": [],
   "source": []
  },
  {
   "cell_type": "code",
   "execution_count": null,
   "metadata": {},
   "outputs": [
    {
     "ename": "BadRequestError",
     "evalue": "Error code: 400 - [{'error': {'code': 400, 'message': 'API key not valid. Please pass a valid API key.', 'status': 'INVALID_ARGUMENT', 'details': [{'@type': 'type.googleapis.com/google.rpc.ErrorInfo', 'reason': 'API_KEY_INVALID', 'domain': 'googleapis.com', 'metadata': {'service': 'generativelanguage.googleapis.com'}}, {'@type': 'type.googleapis.com/google.rpc.LocalizedMessage', 'locale': 'en-US', 'message': 'API key not valid. Please pass a valid API key.'}]}}]",
     "output_type": "error",
     "traceback": [
      "\u001b[31m---------------------------------------------------------------------------\u001b[39m",
      "\u001b[31mBadRequestError\u001b[39m                           Traceback (most recent call last)",
      "\u001b[36mCell\u001b[39m\u001b[36m \u001b[39m\u001b[32mIn[10]\u001b[39m\u001b[32m, line 4\u001b[39m\n\u001b[32m      1\u001b[39m gemini = OpenAI(api_key=google_api_key, base_url=\u001b[33m\"\u001b[39m\u001b[33mhttps://generativelanguage.googleapis.com/v1beta/openai/\u001b[39m\u001b[33m\"\u001b[39m)\n\u001b[32m      2\u001b[39m model_name = \u001b[33m\"\u001b[39m\u001b[33mgemini-2.0-flash\u001b[39m\u001b[33m\"\u001b[39m\n\u001b[32m----> \u001b[39m\u001b[32m4\u001b[39m response = \u001b[43mgemini\u001b[49m\u001b[43m.\u001b[49m\u001b[43mchat\u001b[49m\u001b[43m.\u001b[49m\u001b[43mcompletions\u001b[49m\u001b[43m.\u001b[49m\u001b[43mcreate\u001b[49m\u001b[43m(\u001b[49m\u001b[43mmodel\u001b[49m\u001b[43m=\u001b[49m\u001b[43mmodel_name\u001b[49m\u001b[43m,\u001b[49m\u001b[43m \u001b[49m\u001b[43mmessages\u001b[49m\u001b[43m=\u001b[49m\u001b[43mmessages\u001b[49m\u001b[43m)\u001b[49m\n\u001b[32m      5\u001b[39m answer = response.choices[\u001b[32m0\u001b[39m].message.content\n\u001b[32m      7\u001b[39m display(Markdown(answer))\n",
      "\u001b[36mFile \u001b[39m\u001b[32m~/agents/.venv/lib/python3.12/site-packages/openai/_utils/_utils.py:287\u001b[39m, in \u001b[36mrequired_args.<locals>.inner.<locals>.wrapper\u001b[39m\u001b[34m(*args, **kwargs)\u001b[39m\n\u001b[32m    285\u001b[39m             msg = \u001b[33mf\u001b[39m\u001b[33m\"\u001b[39m\u001b[33mMissing required argument: \u001b[39m\u001b[38;5;132;01m{\u001b[39;00mquote(missing[\u001b[32m0\u001b[39m])\u001b[38;5;132;01m}\u001b[39;00m\u001b[33m\"\u001b[39m\n\u001b[32m    286\u001b[39m     \u001b[38;5;28;01mraise\u001b[39;00m \u001b[38;5;167;01mTypeError\u001b[39;00m(msg)\n\u001b[32m--> \u001b[39m\u001b[32m287\u001b[39m \u001b[38;5;28;01mreturn\u001b[39;00m \u001b[43mfunc\u001b[49m\u001b[43m(\u001b[49m\u001b[43m*\u001b[49m\u001b[43margs\u001b[49m\u001b[43m,\u001b[49m\u001b[43m \u001b[49m\u001b[43m*\u001b[49m\u001b[43m*\u001b[49m\u001b[43mkwargs\u001b[49m\u001b[43m)\u001b[49m\n",
      "\u001b[36mFile \u001b[39m\u001b[32m~/agents/.venv/lib/python3.12/site-packages/openai/resources/chat/completions/completions.py:925\u001b[39m, in \u001b[36mCompletions.create\u001b[39m\u001b[34m(self, messages, model, audio, frequency_penalty, function_call, functions, logit_bias, logprobs, max_completion_tokens, max_tokens, metadata, modalities, n, parallel_tool_calls, prediction, presence_penalty, reasoning_effort, response_format, seed, service_tier, stop, store, stream, stream_options, temperature, tool_choice, tools, top_logprobs, top_p, user, web_search_options, extra_headers, extra_query, extra_body, timeout)\u001b[39m\n\u001b[32m    882\u001b[39m \u001b[38;5;129m@required_args\u001b[39m([\u001b[33m\"\u001b[39m\u001b[33mmessages\u001b[39m\u001b[33m\"\u001b[39m, \u001b[33m\"\u001b[39m\u001b[33mmodel\u001b[39m\u001b[33m\"\u001b[39m], [\u001b[33m\"\u001b[39m\u001b[33mmessages\u001b[39m\u001b[33m\"\u001b[39m, \u001b[33m\"\u001b[39m\u001b[33mmodel\u001b[39m\u001b[33m\"\u001b[39m, \u001b[33m\"\u001b[39m\u001b[33mstream\u001b[39m\u001b[33m\"\u001b[39m])\n\u001b[32m    883\u001b[39m \u001b[38;5;28;01mdef\u001b[39;00m\u001b[38;5;250m \u001b[39m\u001b[34mcreate\u001b[39m(\n\u001b[32m    884\u001b[39m     \u001b[38;5;28mself\u001b[39m,\n\u001b[32m   (...)\u001b[39m\u001b[32m    922\u001b[39m     timeout: \u001b[38;5;28mfloat\u001b[39m | httpx.Timeout | \u001b[38;5;28;01mNone\u001b[39;00m | NotGiven = NOT_GIVEN,\n\u001b[32m    923\u001b[39m ) -> ChatCompletion | Stream[ChatCompletionChunk]:\n\u001b[32m    924\u001b[39m     validate_response_format(response_format)\n\u001b[32m--> \u001b[39m\u001b[32m925\u001b[39m     \u001b[38;5;28;01mreturn\u001b[39;00m \u001b[38;5;28;43mself\u001b[39;49m\u001b[43m.\u001b[49m\u001b[43m_post\u001b[49m\u001b[43m(\u001b[49m\n\u001b[32m    926\u001b[39m \u001b[43m        \u001b[49m\u001b[33;43m\"\u001b[39;49m\u001b[33;43m/chat/completions\u001b[39;49m\u001b[33;43m\"\u001b[39;49m\u001b[43m,\u001b[49m\n\u001b[32m    927\u001b[39m \u001b[43m        \u001b[49m\u001b[43mbody\u001b[49m\u001b[43m=\u001b[49m\u001b[43mmaybe_transform\u001b[49m\u001b[43m(\u001b[49m\n\u001b[32m    928\u001b[39m \u001b[43m            \u001b[49m\u001b[43m{\u001b[49m\n\u001b[32m    929\u001b[39m \u001b[43m                \u001b[49m\u001b[33;43m\"\u001b[39;49m\u001b[33;43mmessages\u001b[39;49m\u001b[33;43m\"\u001b[39;49m\u001b[43m:\u001b[49m\u001b[43m \u001b[49m\u001b[43mmessages\u001b[49m\u001b[43m,\u001b[49m\n\u001b[32m    930\u001b[39m \u001b[43m                \u001b[49m\u001b[33;43m\"\u001b[39;49m\u001b[33;43mmodel\u001b[39;49m\u001b[33;43m\"\u001b[39;49m\u001b[43m:\u001b[49m\u001b[43m \u001b[49m\u001b[43mmodel\u001b[49m\u001b[43m,\u001b[49m\n\u001b[32m    931\u001b[39m \u001b[43m                \u001b[49m\u001b[33;43m\"\u001b[39;49m\u001b[33;43maudio\u001b[39;49m\u001b[33;43m\"\u001b[39;49m\u001b[43m:\u001b[49m\u001b[43m \u001b[49m\u001b[43maudio\u001b[49m\u001b[43m,\u001b[49m\n\u001b[32m    932\u001b[39m \u001b[43m                \u001b[49m\u001b[33;43m\"\u001b[39;49m\u001b[33;43mfrequency_penalty\u001b[39;49m\u001b[33;43m\"\u001b[39;49m\u001b[43m:\u001b[49m\u001b[43m \u001b[49m\u001b[43mfrequency_penalty\u001b[49m\u001b[43m,\u001b[49m\n\u001b[32m    933\u001b[39m \u001b[43m                \u001b[49m\u001b[33;43m\"\u001b[39;49m\u001b[33;43mfunction_call\u001b[39;49m\u001b[33;43m\"\u001b[39;49m\u001b[43m:\u001b[49m\u001b[43m \u001b[49m\u001b[43mfunction_call\u001b[49m\u001b[43m,\u001b[49m\n\u001b[32m    934\u001b[39m \u001b[43m                \u001b[49m\u001b[33;43m\"\u001b[39;49m\u001b[33;43mfunctions\u001b[39;49m\u001b[33;43m\"\u001b[39;49m\u001b[43m:\u001b[49m\u001b[43m \u001b[49m\u001b[43mfunctions\u001b[49m\u001b[43m,\u001b[49m\n\u001b[32m    935\u001b[39m \u001b[43m                \u001b[49m\u001b[33;43m\"\u001b[39;49m\u001b[33;43mlogit_bias\u001b[39;49m\u001b[33;43m\"\u001b[39;49m\u001b[43m:\u001b[49m\u001b[43m \u001b[49m\u001b[43mlogit_bias\u001b[49m\u001b[43m,\u001b[49m\n\u001b[32m    936\u001b[39m \u001b[43m                \u001b[49m\u001b[33;43m\"\u001b[39;49m\u001b[33;43mlogprobs\u001b[39;49m\u001b[33;43m\"\u001b[39;49m\u001b[43m:\u001b[49m\u001b[43m \u001b[49m\u001b[43mlogprobs\u001b[49m\u001b[43m,\u001b[49m\n\u001b[32m    937\u001b[39m \u001b[43m                \u001b[49m\u001b[33;43m\"\u001b[39;49m\u001b[33;43mmax_completion_tokens\u001b[39;49m\u001b[33;43m\"\u001b[39;49m\u001b[43m:\u001b[49m\u001b[43m \u001b[49m\u001b[43mmax_completion_tokens\u001b[49m\u001b[43m,\u001b[49m\n\u001b[32m    938\u001b[39m \u001b[43m                \u001b[49m\u001b[33;43m\"\u001b[39;49m\u001b[33;43mmax_tokens\u001b[39;49m\u001b[33;43m\"\u001b[39;49m\u001b[43m:\u001b[49m\u001b[43m \u001b[49m\u001b[43mmax_tokens\u001b[49m\u001b[43m,\u001b[49m\n\u001b[32m    939\u001b[39m \u001b[43m                \u001b[49m\u001b[33;43m\"\u001b[39;49m\u001b[33;43mmetadata\u001b[39;49m\u001b[33;43m\"\u001b[39;49m\u001b[43m:\u001b[49m\u001b[43m \u001b[49m\u001b[43mmetadata\u001b[49m\u001b[43m,\u001b[49m\n\u001b[32m    940\u001b[39m \u001b[43m                \u001b[49m\u001b[33;43m\"\u001b[39;49m\u001b[33;43mmodalities\u001b[39;49m\u001b[33;43m\"\u001b[39;49m\u001b[43m:\u001b[49m\u001b[43m \u001b[49m\u001b[43mmodalities\u001b[49m\u001b[43m,\u001b[49m\n\u001b[32m    941\u001b[39m \u001b[43m                \u001b[49m\u001b[33;43m\"\u001b[39;49m\u001b[33;43mn\u001b[39;49m\u001b[33;43m\"\u001b[39;49m\u001b[43m:\u001b[49m\u001b[43m \u001b[49m\u001b[43mn\u001b[49m\u001b[43m,\u001b[49m\n\u001b[32m    942\u001b[39m \u001b[43m                \u001b[49m\u001b[33;43m\"\u001b[39;49m\u001b[33;43mparallel_tool_calls\u001b[39;49m\u001b[33;43m\"\u001b[39;49m\u001b[43m:\u001b[49m\u001b[43m \u001b[49m\u001b[43mparallel_tool_calls\u001b[49m\u001b[43m,\u001b[49m\n\u001b[32m    943\u001b[39m \u001b[43m                \u001b[49m\u001b[33;43m\"\u001b[39;49m\u001b[33;43mprediction\u001b[39;49m\u001b[33;43m\"\u001b[39;49m\u001b[43m:\u001b[49m\u001b[43m \u001b[49m\u001b[43mprediction\u001b[49m\u001b[43m,\u001b[49m\n\u001b[32m    944\u001b[39m \u001b[43m                \u001b[49m\u001b[33;43m\"\u001b[39;49m\u001b[33;43mpresence_penalty\u001b[39;49m\u001b[33;43m\"\u001b[39;49m\u001b[43m:\u001b[49m\u001b[43m \u001b[49m\u001b[43mpresence_penalty\u001b[49m\u001b[43m,\u001b[49m\n\u001b[32m    945\u001b[39m \u001b[43m                \u001b[49m\u001b[33;43m\"\u001b[39;49m\u001b[33;43mreasoning_effort\u001b[39;49m\u001b[33;43m\"\u001b[39;49m\u001b[43m:\u001b[49m\u001b[43m \u001b[49m\u001b[43mreasoning_effort\u001b[49m\u001b[43m,\u001b[49m\n\u001b[32m    946\u001b[39m \u001b[43m                \u001b[49m\u001b[33;43m\"\u001b[39;49m\u001b[33;43mresponse_format\u001b[39;49m\u001b[33;43m\"\u001b[39;49m\u001b[43m:\u001b[49m\u001b[43m \u001b[49m\u001b[43mresponse_format\u001b[49m\u001b[43m,\u001b[49m\n\u001b[32m    947\u001b[39m \u001b[43m                \u001b[49m\u001b[33;43m\"\u001b[39;49m\u001b[33;43mseed\u001b[39;49m\u001b[33;43m\"\u001b[39;49m\u001b[43m:\u001b[49m\u001b[43m \u001b[49m\u001b[43mseed\u001b[49m\u001b[43m,\u001b[49m\n\u001b[32m    948\u001b[39m \u001b[43m                \u001b[49m\u001b[33;43m\"\u001b[39;49m\u001b[33;43mservice_tier\u001b[39;49m\u001b[33;43m\"\u001b[39;49m\u001b[43m:\u001b[49m\u001b[43m \u001b[49m\u001b[43mservice_tier\u001b[49m\u001b[43m,\u001b[49m\n\u001b[32m    949\u001b[39m \u001b[43m                \u001b[49m\u001b[33;43m\"\u001b[39;49m\u001b[33;43mstop\u001b[39;49m\u001b[33;43m\"\u001b[39;49m\u001b[43m:\u001b[49m\u001b[43m \u001b[49m\u001b[43mstop\u001b[49m\u001b[43m,\u001b[49m\n\u001b[32m    950\u001b[39m \u001b[43m                \u001b[49m\u001b[33;43m\"\u001b[39;49m\u001b[33;43mstore\u001b[39;49m\u001b[33;43m\"\u001b[39;49m\u001b[43m:\u001b[49m\u001b[43m \u001b[49m\u001b[43mstore\u001b[49m\u001b[43m,\u001b[49m\n\u001b[32m    951\u001b[39m \u001b[43m                \u001b[49m\u001b[33;43m\"\u001b[39;49m\u001b[33;43mstream\u001b[39;49m\u001b[33;43m\"\u001b[39;49m\u001b[43m:\u001b[49m\u001b[43m \u001b[49m\u001b[43mstream\u001b[49m\u001b[43m,\u001b[49m\n\u001b[32m    952\u001b[39m \u001b[43m                \u001b[49m\u001b[33;43m\"\u001b[39;49m\u001b[33;43mstream_options\u001b[39;49m\u001b[33;43m\"\u001b[39;49m\u001b[43m:\u001b[49m\u001b[43m \u001b[49m\u001b[43mstream_options\u001b[49m\u001b[43m,\u001b[49m\n\u001b[32m    953\u001b[39m \u001b[43m                \u001b[49m\u001b[33;43m\"\u001b[39;49m\u001b[33;43mtemperature\u001b[39;49m\u001b[33;43m\"\u001b[39;49m\u001b[43m:\u001b[49m\u001b[43m \u001b[49m\u001b[43mtemperature\u001b[49m\u001b[43m,\u001b[49m\n\u001b[32m    954\u001b[39m \u001b[43m                \u001b[49m\u001b[33;43m\"\u001b[39;49m\u001b[33;43mtool_choice\u001b[39;49m\u001b[33;43m\"\u001b[39;49m\u001b[43m:\u001b[49m\u001b[43m \u001b[49m\u001b[43mtool_choice\u001b[49m\u001b[43m,\u001b[49m\n\u001b[32m    955\u001b[39m \u001b[43m                \u001b[49m\u001b[33;43m\"\u001b[39;49m\u001b[33;43mtools\u001b[39;49m\u001b[33;43m\"\u001b[39;49m\u001b[43m:\u001b[49m\u001b[43m \u001b[49m\u001b[43mtools\u001b[49m\u001b[43m,\u001b[49m\n\u001b[32m    956\u001b[39m \u001b[43m                \u001b[49m\u001b[33;43m\"\u001b[39;49m\u001b[33;43mtop_logprobs\u001b[39;49m\u001b[33;43m\"\u001b[39;49m\u001b[43m:\u001b[49m\u001b[43m \u001b[49m\u001b[43mtop_logprobs\u001b[49m\u001b[43m,\u001b[49m\n\u001b[32m    957\u001b[39m \u001b[43m                \u001b[49m\u001b[33;43m\"\u001b[39;49m\u001b[33;43mtop_p\u001b[39;49m\u001b[33;43m\"\u001b[39;49m\u001b[43m:\u001b[49m\u001b[43m \u001b[49m\u001b[43mtop_p\u001b[49m\u001b[43m,\u001b[49m\n\u001b[32m    958\u001b[39m \u001b[43m                \u001b[49m\u001b[33;43m\"\u001b[39;49m\u001b[33;43muser\u001b[39;49m\u001b[33;43m\"\u001b[39;49m\u001b[43m:\u001b[49m\u001b[43m \u001b[49m\u001b[43muser\u001b[49m\u001b[43m,\u001b[49m\n\u001b[32m    959\u001b[39m \u001b[43m                \u001b[49m\u001b[33;43m\"\u001b[39;49m\u001b[33;43mweb_search_options\u001b[39;49m\u001b[33;43m\"\u001b[39;49m\u001b[43m:\u001b[49m\u001b[43m \u001b[49m\u001b[43mweb_search_options\u001b[49m\u001b[43m,\u001b[49m\n\u001b[32m    960\u001b[39m \u001b[43m            \u001b[49m\u001b[43m}\u001b[49m\u001b[43m,\u001b[49m\n\u001b[32m    961\u001b[39m \u001b[43m            \u001b[49m\u001b[43mcompletion_create_params\u001b[49m\u001b[43m.\u001b[49m\u001b[43mCompletionCreateParamsStreaming\u001b[49m\n\u001b[32m    962\u001b[39m \u001b[43m            \u001b[49m\u001b[38;5;28;43;01mif\u001b[39;49;00m\u001b[43m \u001b[49m\u001b[43mstream\u001b[49m\n\u001b[32m    963\u001b[39m \u001b[43m            \u001b[49m\u001b[38;5;28;43;01melse\u001b[39;49;00m\u001b[43m \u001b[49m\u001b[43mcompletion_create_params\u001b[49m\u001b[43m.\u001b[49m\u001b[43mCompletionCreateParamsNonStreaming\u001b[49m\u001b[43m,\u001b[49m\n\u001b[32m    964\u001b[39m \u001b[43m        \u001b[49m\u001b[43m)\u001b[49m\u001b[43m,\u001b[49m\n\u001b[32m    965\u001b[39m \u001b[43m        \u001b[49m\u001b[43moptions\u001b[49m\u001b[43m=\u001b[49m\u001b[43mmake_request_options\u001b[49m\u001b[43m(\u001b[49m\n\u001b[32m    966\u001b[39m \u001b[43m            \u001b[49m\u001b[43mextra_headers\u001b[49m\u001b[43m=\u001b[49m\u001b[43mextra_headers\u001b[49m\u001b[43m,\u001b[49m\u001b[43m \u001b[49m\u001b[43mextra_query\u001b[49m\u001b[43m=\u001b[49m\u001b[43mextra_query\u001b[49m\u001b[43m,\u001b[49m\u001b[43m \u001b[49m\u001b[43mextra_body\u001b[49m\u001b[43m=\u001b[49m\u001b[43mextra_body\u001b[49m\u001b[43m,\u001b[49m\u001b[43m \u001b[49m\u001b[43mtimeout\u001b[49m\u001b[43m=\u001b[49m\u001b[43mtimeout\u001b[49m\n\u001b[32m    967\u001b[39m \u001b[43m        \u001b[49m\u001b[43m)\u001b[49m\u001b[43m,\u001b[49m\n\u001b[32m    968\u001b[39m \u001b[43m        \u001b[49m\u001b[43mcast_to\u001b[49m\u001b[43m=\u001b[49m\u001b[43mChatCompletion\u001b[49m\u001b[43m,\u001b[49m\n\u001b[32m    969\u001b[39m \u001b[43m        \u001b[49m\u001b[43mstream\u001b[49m\u001b[43m=\u001b[49m\u001b[43mstream\u001b[49m\u001b[43m \u001b[49m\u001b[38;5;129;43;01mor\u001b[39;49;00m\u001b[43m \u001b[49m\u001b[38;5;28;43;01mFalse\u001b[39;49;00m\u001b[43m,\u001b[49m\n\u001b[32m    970\u001b[39m \u001b[43m        \u001b[49m\u001b[43mstream_cls\u001b[49m\u001b[43m=\u001b[49m\u001b[43mStream\u001b[49m\u001b[43m[\u001b[49m\u001b[43mChatCompletionChunk\u001b[49m\u001b[43m]\u001b[49m\u001b[43m,\u001b[49m\n\u001b[32m    971\u001b[39m \u001b[43m    \u001b[49m\u001b[43m)\u001b[49m\n",
      "\u001b[36mFile \u001b[39m\u001b[32m~/agents/.venv/lib/python3.12/site-packages/openai/_base_client.py:1249\u001b[39m, in \u001b[36mSyncAPIClient.post\u001b[39m\u001b[34m(self, path, cast_to, body, options, files, stream, stream_cls)\u001b[39m\n\u001b[32m   1235\u001b[39m \u001b[38;5;28;01mdef\u001b[39;00m\u001b[38;5;250m \u001b[39m\u001b[34mpost\u001b[39m(\n\u001b[32m   1236\u001b[39m     \u001b[38;5;28mself\u001b[39m,\n\u001b[32m   1237\u001b[39m     path: \u001b[38;5;28mstr\u001b[39m,\n\u001b[32m   (...)\u001b[39m\u001b[32m   1244\u001b[39m     stream_cls: \u001b[38;5;28mtype\u001b[39m[_StreamT] | \u001b[38;5;28;01mNone\u001b[39;00m = \u001b[38;5;28;01mNone\u001b[39;00m,\n\u001b[32m   1245\u001b[39m ) -> ResponseT | _StreamT:\n\u001b[32m   1246\u001b[39m     opts = FinalRequestOptions.construct(\n\u001b[32m   1247\u001b[39m         method=\u001b[33m\"\u001b[39m\u001b[33mpost\u001b[39m\u001b[33m\"\u001b[39m, url=path, json_data=body, files=to_httpx_files(files), **options\n\u001b[32m   1248\u001b[39m     )\n\u001b[32m-> \u001b[39m\u001b[32m1249\u001b[39m     \u001b[38;5;28;01mreturn\u001b[39;00m cast(ResponseT, \u001b[38;5;28;43mself\u001b[39;49m\u001b[43m.\u001b[49m\u001b[43mrequest\u001b[49m\u001b[43m(\u001b[49m\u001b[43mcast_to\u001b[49m\u001b[43m,\u001b[49m\u001b[43m \u001b[49m\u001b[43mopts\u001b[49m\u001b[43m,\u001b[49m\u001b[43m \u001b[49m\u001b[43mstream\u001b[49m\u001b[43m=\u001b[49m\u001b[43mstream\u001b[49m\u001b[43m,\u001b[49m\u001b[43m \u001b[49m\u001b[43mstream_cls\u001b[49m\u001b[43m=\u001b[49m\u001b[43mstream_cls\u001b[49m\u001b[43m)\u001b[49m)\n",
      "\u001b[36mFile \u001b[39m\u001b[32m~/agents/.venv/lib/python3.12/site-packages/openai/_base_client.py:1037\u001b[39m, in \u001b[36mSyncAPIClient.request\u001b[39m\u001b[34m(self, cast_to, options, stream, stream_cls)\u001b[39m\n\u001b[32m   1034\u001b[39m             err.response.read()\n\u001b[32m   1036\u001b[39m         log.debug(\u001b[33m\"\u001b[39m\u001b[33mRe-raising status error\u001b[39m\u001b[33m\"\u001b[39m)\n\u001b[32m-> \u001b[39m\u001b[32m1037\u001b[39m         \u001b[38;5;28;01mraise\u001b[39;00m \u001b[38;5;28mself\u001b[39m._make_status_error_from_response(err.response) \u001b[38;5;28;01mfrom\u001b[39;00m\u001b[38;5;250m \u001b[39m\u001b[38;5;28;01mNone\u001b[39;00m\n\u001b[32m   1039\u001b[39m     \u001b[38;5;28;01mbreak\u001b[39;00m\n\u001b[32m   1041\u001b[39m \u001b[38;5;28;01massert\u001b[39;00m response \u001b[38;5;129;01mis\u001b[39;00m \u001b[38;5;129;01mnot\u001b[39;00m \u001b[38;5;28;01mNone\u001b[39;00m, \u001b[33m\"\u001b[39m\u001b[33mcould not resolve response (should never happen)\u001b[39m\u001b[33m\"\u001b[39m\n",
      "\u001b[31mBadRequestError\u001b[39m: Error code: 400 - [{'error': {'code': 400, 'message': 'API key not valid. Please pass a valid API key.', 'status': 'INVALID_ARGUMENT', 'details': [{'@type': 'type.googleapis.com/google.rpc.ErrorInfo', 'reason': 'API_KEY_INVALID', 'domain': 'googleapis.com', 'metadata': {'service': 'generativelanguage.googleapis.com'}}, {'@type': 'type.googleapis.com/google.rpc.LocalizedMessage', 'locale': 'en-US', 'message': 'API key not valid. Please pass a valid API key.'}]}}]"
     ]
    }
   ],
   "source": [
    "gemini = OpenAI(api_key=google_api_key, base_url=\"https://generativelanguage.googleapis.com/v1beta/openai/\")\n",
    "model_name = \"gemini-2.0-flash\"\n",
    "\n",
    "response = gemini.chat.completions.create(model=model_name, messages=messages)\n",
    "answer = response.choices[0].message.content\n",
    "\n",
    "display(Markdown(answer))\n",
    "answers.append(answer)"
   ]
  },
  {
   "cell_type": "code",
   "execution_count": null,
   "metadata": {},
   "outputs": [],
   "source": [
    "deepseek = OpenAI(api_key=deepseek_api_key, base_url=\"https://api.deepseek.com/v1\")\n",
    "model_name = \"deepseek-chat\"\n",
    "\n",
    "response = deepseek.chat.completions.create(model=model_name, messages=messages)\n",
    "answer = response.choices[0].message.content\n",
    "\n",
    "display(Markdown(answer))\n",
    "competitors.append(model_name)\n",
    "answers.append(answer)"
   ]
  },
  {
   "cell_type": "code",
   "execution_count": null,
   "metadata": {},
   "outputs": [],
   "source": [
    "groq = OpenAI(api_key=groq_api_key, base_url=\"https://api.groq.com/openai/v1\")\n",
    "model_name = \"llama-3.3-70b-versatile\"\n",
    "\n",
    "response = groq.chat.completions.create(model=model_name, messages=messages)\n",
    "answer = response.choices[0].message.content\n",
    "\n",
    "display(Markdown(answer))\n",
    "competitors.append(model_name)\n",
    "answers.append(answer)\n"
   ]
  },
  {
   "cell_type": "markdown",
   "metadata": {},
   "source": [
    "## For the next cell, we will use Ollama\n",
    "\n",
    "Ollama runs a local web service that gives an OpenAI compatible endpoint,  \n",
    "and runs models locally using high performance C++ code.\n",
    "\n",
    "If you don't have Ollama, install it here by visiting https://ollama.com then pressing Download and following the instructions.\n",
    "\n",
    "After it's installed, you should be able to visit here: http://localhost:11434 and see the message \"Ollama is running\"\n",
    "\n",
    "You might need to restart Cursor (and maybe reboot). Then open a Terminal (control+\\`) and run `ollama serve`\n",
    "\n",
    "Useful Ollama commands (run these in the terminal, or with an exclamation mark in this notebook):\n",
    "\n",
    "`ollama pull <model_name>` downloads a model locally  \n",
    "`ollama ls` lists all the models you've downloaded  \n",
    "`ollama rm <model_name>` deletes the specified model from your downloads"
   ]
  },
  {
   "cell_type": "markdown",
   "metadata": {},
   "source": [
    "<table style=\"margin: 0; text-align: left; width:100%\">\n",
    "    <tr>\n",
    "        <td style=\"width: 150px; height: 150px; vertical-align: middle;\">\n",
    "            <img src=\"../assets/stop.png\" width=\"150\" height=\"150\" style=\"display: block;\" />\n",
    "        </td>\n",
    "        <td>\n",
    "            <h2 style=\"color:#ff7800;\">Super important - ignore me at your peril!</h2>\n",
    "            <span style=\"color:#ff7800;\">The model called <b>llama3.3</b> is FAR too large for home computers - it's not intended for personal computing and will consume all your resources! Stick with the nicely sized <b>llama3.2</b> or <b>llama3.2:1b</b> and if you want larger, try llama3.1 or smaller variants of Qwen, Gemma, Phi or DeepSeek. See the <A href=\"https://ollama.com/models\">the Ollama models page</a> for a full list of models and sizes.\n",
    "            </span>\n",
    "        </td>\n",
    "    </tr>\n",
    "</table>"
   ]
  },
  {
   "cell_type": "code",
   "execution_count": null,
   "metadata": {},
   "outputs": [],
   "source": [
    "!ollama pull llama3.2"
   ]
  },
  {
   "cell_type": "code",
   "execution_count": 13,
   "metadata": {},
   "outputs": [
    {
     "data": {
      "text/markdown": [
       "Designing a society from scratch requires careful consideration of various factors to create a sustainable, equitable, and just community. Here are some core principles I would prioritize:\n",
       "\n",
       "1. **Inclusive Decision-Making**: Establish an inclusive decision-making process that empowers all members to participate in shaping the society's direction. This can be achieved through regular town hall meetings, citizen jury programs, or other transparent and accessible methods.\n",
       "2. **Decentralization and Autonomy**: Encourage decentralized decision-making authority at local levels, allowing communities to self-govern and tailor their needs to specific circumstances. This promotes local ownership, innovation, and adaptability.\n",
       "3. **Interconnectedness and Mutual Support**: Foster strong social networks and community ties by encouraging collective activities, shared resources, and mutual support systems. This can help build resilience, foster empathy, and promote a sense of belonging.\n",
       "4. **Environmental Stewardship**: Prioritize environmental sustainability through policies such as renewable energy adoption, eco-friendly infrastructure development, and sustainable agriculture practices. Emphasize education and awareness-raising initiatives to ensure all members share in the responsibility for maintaining the planet's well-being.\n",
       "5. **Digital Literacy and Accessibility**: Ensure affordable access to digital technologies, including computing devices, internet connectivity, and mobile phones. Develop programs to equate computer skills or even coding classes to provide equitable opportunities for participation and integration into modern society.\n",
       "6. **Equity and Justice**: Implement policies aimed at addressing historical injustices, such as reparations, affirmative action, and social welfare systems designed to ensure economic stability and equal treatment under the law.\n",
       "\n",
       "To balance individual rights with collective good, I would suggest:\n",
       "\n",
       "1. **Flexible Regulations framework**: Establish a regulatory system that is adaptable and open to revision based on emerging needs or changing circumstances.\n",
       "2. **Participatory Budgeting**: Implement participatory budgeting processes where citizens have direct input into funding priorities, reflecting community values on issues of social and economic distribution to build trust in institutions and stimulate equitable growth.\n",
       "3. **Hybrid Governance Models**: Explore hybrid governance models that blend elements of liberal democracy (e.g., the separation of powers) with collaborative, grassroots approaches like participatory economics or post-scarcity economies.\n",
       "4. **Holistic Education Programs**: Establish education systems that emphasize cross-disciplinary skills training (science-technology-arts-humanities-social sciences-compassionate empathy), developing interdependent thinking skills to foster cooperation as well as individual autonomy.\n",
       "5. Addressing systemic inequalities by targeting policy adjustments specifically towards marginalized groups: Incorporate inclusive decision-making processes, promote diversity and representation at all levels of governance, address the root causes of historical disparities with targeted support programs, and offer accessible pathways for upward social mobility where appropriate.\n",
       "\n",
       "By emphasizing these core principles and approaches, a society built from scratch can better prioritize sustainability, justice, and inclusivity for all its inhabitants. Implementing a responsive, adaptive regulatory structure and embracing hybrid governance models that blend the strengths of liberal democracy and grassroots collaboration can create systems that effectively balance individual rights and collective well-being."
      ],
      "text/plain": [
       "<IPython.core.display.Markdown object>"
      ]
     },
     "metadata": {},
     "output_type": "display_data"
    }
   ],
   "source": [
    "ollama = OpenAI(base_url='http://localhost:11434/v1', api_key='ollama')\n",
    "model_name = \"llama3.2\"\n",
    "\n",
    "response = ollama.chat.completions.create(model=model_name, messages=messages)\n",
    "answer = response.choices[0].message.content\n",
    "\n",
    "display(Markdown(answer))\n",
    "competitors.append(model_name)\n",
    "answers.append(answer)"
   ]
  },
  {
   "cell_type": "code",
   "execution_count": 14,
   "metadata": {},
   "outputs": [
    {
     "name": "stdout",
     "output_type": "stream",
     "text": [
      "['gpt-4o-mini', 'llama3.2']\n",
      "[\"Designing a society from scratch involves integrating a variety of principles that ensure sustainability, justice, and harmony among individuals while recognizing the crucial balance between individual rights and the collective good. Here are the core principles I would prioritize:\\n\\n### Core Principles\\n\\n1. **Sustainability**:\\n   - **Environmental Stewardship**: Foster a deep respect for the planet by promoting renewable energy, sustainable agriculture, and conservation of biodiversity. Implement circular economy practices to minimize waste and resource depletion.\\n   - **Resilience**: Design infrastructure and communities to be resilient to climate change and natural disasters, ensuring the longevity and adaptability of resources.\\n\\n2. **Equity and Justice**:\\n   - **Social Equity**: Ensure equal access to resources, opportunities, and rights regardless of one's background. Create systems to identify and rectify injustices and disparities.\\n   - **Participation**: Encourage active participation in decision-making processes at all levels, giving everyone a voice in shaping the policies that govern their lives.\\n\\n3. **Technological Integration**:\\n   - **Accessible Technology**: Leverage technology to enhance quality of life, provide education, and improve healthcare. Ensure that technological advancements are accessible to all, not just a privileged few.\\n   - **Ethical Innovation**: Establish guidelines for ethical development and use of technology, prioritizing transparency, privacy, and the well-being of individuals over profit.\\n\\n4. **Community and Connection**:\\n   - **Social Cohesion**: Promote a strong sense of community by encouraging collaboration, empathy, and mutual support among individuals. Offer platforms for cultural exchange and understanding.\\n   - **Education for All**: Provide holistic education that fosters critical thinking, emotional intelligence, and global citizenship, preparing individuals to contribute positively to society.\\n\\n5. **Holistic Well-being**:\\n   - **Health and Mental Wellness**: Ensure access to healthcare, mental health resources, and a healthy work-life balance, recognizing the interconnectedness of physical, mental, and social health.\\n   - **Cultural Appreciation**: Celebrate and protect diverse cultural identities, traditions, and languages, fostering a rich societal tapestry that enhances creativity and innovation.\\n\\n### Balancing Individual Rights and Collective Good\\n\\n1. **Deliberative Democracy**: Implement a system of governance that emphasizes deliberative democracy, where citizens engage in open dialogues to address conflicts between individual rights and collective needs. This could involve town hall meetings, citizen assemblies, and referendums for major decisions.\\n\\n2. **Rights with Responsibilities**: Promote the idea that individual rights come with responsibilities toward the community. For instance, while freedom of speech is protected, it should also be emphasized that this freedom must not infringe on others' rights or well-being.\\n\\n3. **Conflict Resolution Mechanisms**: Establish fair and transparent conflict resolution mechanisms to address disputes arising from the tension between individual and collective interests. This could include mediation processes, legal avenues, and restorative justice practices that consider the impact on both parties.\\n\\n4. **Flexible Policies**: Design policies that consider the diversity of circumstances among individuals while promoting the collective good. For example, subsidies for sustainable practices that individuals can opt into while still providing alternatives for those unable to participate.\\n\\n5. **Continuous Feedback Loops**: Create an adaptive governance model that welcomes feedback from citizens to assess policies' effectiveness concerning individual rights and collective needs, allowing for modifications based on real-world outcomes and experiences.\\n\\nBy prioritizing these principles and approaches, the designed society can strive for harmony between individual aspirations and the overarching goal of collective sustainability and justice. This balance will require ongoing dialogue, compassion, and commitment from all members of the community.\", \"Designing a society from scratch requires careful consideration of various factors to create a sustainable, equitable, and just community. Here are some core principles I would prioritize:\\n\\n1. **Inclusive Decision-Making**: Establish an inclusive decision-making process that empowers all members to participate in shaping the society's direction. This can be achieved through regular town hall meetings, citizen jury programs, or other transparent and accessible methods.\\n2. **Decentralization and Autonomy**: Encourage decentralized decision-making authority at local levels, allowing communities to self-govern and tailor their needs to specific circumstances. This promotes local ownership, innovation, and adaptability.\\n3. **Interconnectedness and Mutual Support**: Foster strong social networks and community ties by encouraging collective activities, shared resources, and mutual support systems. This can help build resilience, foster empathy, and promote a sense of belonging.\\n4. **Environmental Stewardship**: Prioritize environmental sustainability through policies such as renewable energy adoption, eco-friendly infrastructure development, and sustainable agriculture practices. Emphasize education and awareness-raising initiatives to ensure all members share in the responsibility for maintaining the planet's well-being.\\n5. **Digital Literacy and Accessibility**: Ensure affordable access to digital technologies, including computing devices, internet connectivity, and mobile phones. Develop programs to equate computer skills or even coding classes to provide equitable opportunities for participation and integration into modern society.\\n6. **Equity and Justice**: Implement policies aimed at addressing historical injustices, such as reparations, affirmative action, and social welfare systems designed to ensure economic stability and equal treatment under the law.\\n\\nTo balance individual rights with collective good, I would suggest:\\n\\n1. **Flexible Regulations framework**: Establish a regulatory system that is adaptable and open to revision based on emerging needs or changing circumstances.\\n2. **Participatory Budgeting**: Implement participatory budgeting processes where citizens have direct input into funding priorities, reflecting community values on issues of social and economic distribution to build trust in institutions and stimulate equitable growth.\\n3. **Hybrid Governance Models**: Explore hybrid governance models that blend elements of liberal democracy (e.g., the separation of powers) with collaborative, grassroots approaches like participatory economics or post-scarcity economies.\\n4. **Holistic Education Programs**: Establish education systems that emphasize cross-disciplinary skills training (science-technology-arts-humanities-social sciences-compassionate empathy), developing interdependent thinking skills to foster cooperation as well as individual autonomy.\\n5. Addressing systemic inequalities by targeting policy adjustments specifically towards marginalized groups: Incorporate inclusive decision-making processes, promote diversity and representation at all levels of governance, address the root causes of historical disparities with targeted support programs, and offer accessible pathways for upward social mobility where appropriate.\\n\\nBy emphasizing these core principles and approaches, a society built from scratch can better prioritize sustainability, justice, and inclusivity for all its inhabitants. Implementing a responsive, adaptive regulatory structure and embracing hybrid governance models that blend the strengths of liberal democracy and grassroots collaboration can create systems that effectively balance individual rights and collective well-being.\"]\n"
     ]
    }
   ],
   "source": [
    "# So where are we?\n",
    "print(competitors)\n",
    "print(answers)"
   ]
  },
  {
   "cell_type": "code",
   "execution_count": 19,
   "metadata": {},
   "outputs": [
    {
     "data": {
      "text/markdown": [
       "Competitor: gpt-4o-mini\n",
       "\n",
       "Designing a society from scratch involves integrating a variety of principles that ensure sustainability, justice, and harmony among individuals while recognizing the crucial balance between individual rights and the collective good. Here are the core principles I would prioritize:\n",
       "\n",
       "### Core Principles\n",
       "\n",
       "1. **Sustainability**:\n",
       "   - **Environmental Stewardship**: Foster a deep respect for the planet by promoting renewable energy, sustainable agriculture, and conservation of biodiversity. Implement circular economy practices to minimize waste and resource depletion.\n",
       "   - **Resilience**: Design infrastructure and communities to be resilient to climate change and natural disasters, ensuring the longevity and adaptability of resources.\n",
       "\n",
       "2. **Equity and Justice**:\n",
       "   - **Social Equity**: Ensure equal access to resources, opportunities, and rights regardless of one's background. Create systems to identify and rectify injustices and disparities.\n",
       "   - **Participation**: Encourage active participation in decision-making processes at all levels, giving everyone a voice in shaping the policies that govern their lives.\n",
       "\n",
       "3. **Technological Integration**:\n",
       "   - **Accessible Technology**: Leverage technology to enhance quality of life, provide education, and improve healthcare. Ensure that technological advancements are accessible to all, not just a privileged few.\n",
       "   - **Ethical Innovation**: Establish guidelines for ethical development and use of technology, prioritizing transparency, privacy, and the well-being of individuals over profit.\n",
       "\n",
       "4. **Community and Connection**:\n",
       "   - **Social Cohesion**: Promote a strong sense of community by encouraging collaboration, empathy, and mutual support among individuals. Offer platforms for cultural exchange and understanding.\n",
       "   - **Education for All**: Provide holistic education that fosters critical thinking, emotional intelligence, and global citizenship, preparing individuals to contribute positively to society.\n",
       "\n",
       "5. **Holistic Well-being**:\n",
       "   - **Health and Mental Wellness**: Ensure access to healthcare, mental health resources, and a healthy work-life balance, recognizing the interconnectedness of physical, mental, and social health.\n",
       "   - **Cultural Appreciation**: Celebrate and protect diverse cultural identities, traditions, and languages, fostering a rich societal tapestry that enhances creativity and innovation.\n",
       "\n",
       "### Balancing Individual Rights and Collective Good\n",
       "\n",
       "1. **Deliberative Democracy**: Implement a system of governance that emphasizes deliberative democracy, where citizens engage in open dialogues to address conflicts between individual rights and collective needs. This could involve town hall meetings, citizen assemblies, and referendums for major decisions.\n",
       "\n",
       "2. **Rights with Responsibilities**: Promote the idea that individual rights come with responsibilities toward the community. For instance, while freedom of speech is protected, it should also be emphasized that this freedom must not infringe on others' rights or well-being.\n",
       "\n",
       "3. **Conflict Resolution Mechanisms**: Establish fair and transparent conflict resolution mechanisms to address disputes arising from the tension between individual and collective interests. This could include mediation processes, legal avenues, and restorative justice practices that consider the impact on both parties.\n",
       "\n",
       "4. **Flexible Policies**: Design policies that consider the diversity of circumstances among individuals while promoting the collective good. For example, subsidies for sustainable practices that individuals can opt into while still providing alternatives for those unable to participate.\n",
       "\n",
       "5. **Continuous Feedback Loops**: Create an adaptive governance model that welcomes feedback from citizens to assess policies' effectiveness concerning individual rights and collective needs, allowing for modifications based on real-world outcomes and experiences.\n",
       "\n",
       "By prioritizing these principles and approaches, the designed society can strive for harmony between individual aspirations and the overarching goal of collective sustainability and justice. This balance will require ongoing dialogue, compassion, and commitment from all members of the community."
      ],
      "text/plain": [
       "<IPython.core.display.Markdown object>"
      ]
     },
     "metadata": {},
     "output_type": "display_data"
    },
    {
     "data": {
      "text/markdown": [
       "Competitor: llama3.2\n",
       "\n",
       "Designing a society from scratch requires careful consideration of various factors to create a sustainable, equitable, and just community. Here are some core principles I would prioritize:\n",
       "\n",
       "1. **Inclusive Decision-Making**: Establish an inclusive decision-making process that empowers all members to participate in shaping the society's direction. This can be achieved through regular town hall meetings, citizen jury programs, or other transparent and accessible methods.\n",
       "2. **Decentralization and Autonomy**: Encourage decentralized decision-making authority at local levels, allowing communities to self-govern and tailor their needs to specific circumstances. This promotes local ownership, innovation, and adaptability.\n",
       "3. **Interconnectedness and Mutual Support**: Foster strong social networks and community ties by encouraging collective activities, shared resources, and mutual support systems. This can help build resilience, foster empathy, and promote a sense of belonging.\n",
       "4. **Environmental Stewardship**: Prioritize environmental sustainability through policies such as renewable energy adoption, eco-friendly infrastructure development, and sustainable agriculture practices. Emphasize education and awareness-raising initiatives to ensure all members share in the responsibility for maintaining the planet's well-being.\n",
       "5. **Digital Literacy and Accessibility**: Ensure affordable access to digital technologies, including computing devices, internet connectivity, and mobile phones. Develop programs to equate computer skills or even coding classes to provide equitable opportunities for participation and integration into modern society.\n",
       "6. **Equity and Justice**: Implement policies aimed at addressing historical injustices, such as reparations, affirmative action, and social welfare systems designed to ensure economic stability and equal treatment under the law.\n",
       "\n",
       "To balance individual rights with collective good, I would suggest:\n",
       "\n",
       "1. **Flexible Regulations framework**: Establish a regulatory system that is adaptable and open to revision based on emerging needs or changing circumstances.\n",
       "2. **Participatory Budgeting**: Implement participatory budgeting processes where citizens have direct input into funding priorities, reflecting community values on issues of social and economic distribution to build trust in institutions and stimulate equitable growth.\n",
       "3. **Hybrid Governance Models**: Explore hybrid governance models that blend elements of liberal democracy (e.g., the separation of powers) with collaborative, grassroots approaches like participatory economics or post-scarcity economies.\n",
       "4. **Holistic Education Programs**: Establish education systems that emphasize cross-disciplinary skills training (science-technology-arts-humanities-social sciences-compassionate empathy), developing interdependent thinking skills to foster cooperation as well as individual autonomy.\n",
       "5. Addressing systemic inequalities by targeting policy adjustments specifically towards marginalized groups: Incorporate inclusive decision-making processes, promote diversity and representation at all levels of governance, address the root causes of historical disparities with targeted support programs, and offer accessible pathways for upward social mobility where appropriate.\n",
       "\n",
       "By emphasizing these core principles and approaches, a society built from scratch can better prioritize sustainability, justice, and inclusivity for all its inhabitants. Implementing a responsive, adaptive regulatory structure and embracing hybrid governance models that blend the strengths of liberal democracy and grassroots collaboration can create systems that effectively balance individual rights and collective well-being."
      ],
      "text/plain": [
       "<IPython.core.display.Markdown object>"
      ]
     },
     "metadata": {},
     "output_type": "display_data"
    }
   ],
   "source": [
    "# It's nice to know how to use \"zip\"\n",
    "for competitor, answer in zip(competitors, answers):\n",
    "    display(Markdown(f\"Competitor: {competitor}\\n\\n{answer}\"))"
   ]
  },
  {
   "cell_type": "code",
   "execution_count": 21,
   "metadata": {},
   "outputs": [],
   "source": [
    "# Let's bring this together - note the use of \"enumerate\"\n",
    "\n",
    "together = \"\"\n",
    "for index, answer in enumerate(answers):\n",
    "    together += f\"# Response from competitor {index+1}\\n\\n\"\n",
    "    together += answer + \"\\n\\n\""
   ]
  },
  {
   "cell_type": "code",
   "execution_count": 23,
   "metadata": {},
   "outputs": [
    {
     "data": {
      "text/markdown": [
       "# Response from competitor 1\n",
       "\n",
       "Designing a society from scratch involves integrating a variety of principles that ensure sustainability, justice, and harmony among individuals while recognizing the crucial balance between individual rights and the collective good. Here are the core principles I would prioritize:\n",
       "\n",
       "### Core Principles\n",
       "\n",
       "1. **Sustainability**:\n",
       "   - **Environmental Stewardship**: Foster a deep respect for the planet by promoting renewable energy, sustainable agriculture, and conservation of biodiversity. Implement circular economy practices to minimize waste and resource depletion.\n",
       "   - **Resilience**: Design infrastructure and communities to be resilient to climate change and natural disasters, ensuring the longevity and adaptability of resources.\n",
       "\n",
       "2. **Equity and Justice**:\n",
       "   - **Social Equity**: Ensure equal access to resources, opportunities, and rights regardless of one's background. Create systems to identify and rectify injustices and disparities.\n",
       "   - **Participation**: Encourage active participation in decision-making processes at all levels, giving everyone a voice in shaping the policies that govern their lives.\n",
       "\n",
       "3. **Technological Integration**:\n",
       "   - **Accessible Technology**: Leverage technology to enhance quality of life, provide education, and improve healthcare. Ensure that technological advancements are accessible to all, not just a privileged few.\n",
       "   - **Ethical Innovation**: Establish guidelines for ethical development and use of technology, prioritizing transparency, privacy, and the well-being of individuals over profit.\n",
       "\n",
       "4. **Community and Connection**:\n",
       "   - **Social Cohesion**: Promote a strong sense of community by encouraging collaboration, empathy, and mutual support among individuals. Offer platforms for cultural exchange and understanding.\n",
       "   - **Education for All**: Provide holistic education that fosters critical thinking, emotional intelligence, and global citizenship, preparing individuals to contribute positively to society.\n",
       "\n",
       "5. **Holistic Well-being**:\n",
       "   - **Health and Mental Wellness**: Ensure access to healthcare, mental health resources, and a healthy work-life balance, recognizing the interconnectedness of physical, mental, and social health.\n",
       "   - **Cultural Appreciation**: Celebrate and protect diverse cultural identities, traditions, and languages, fostering a rich societal tapestry that enhances creativity and innovation.\n",
       "\n",
       "### Balancing Individual Rights and Collective Good\n",
       "\n",
       "1. **Deliberative Democracy**: Implement a system of governance that emphasizes deliberative democracy, where citizens engage in open dialogues to address conflicts between individual rights and collective needs. This could involve town hall meetings, citizen assemblies, and referendums for major decisions.\n",
       "\n",
       "2. **Rights with Responsibilities**: Promote the idea that individual rights come with responsibilities toward the community. For instance, while freedom of speech is protected, it should also be emphasized that this freedom must not infringe on others' rights or well-being.\n",
       "\n",
       "3. **Conflict Resolution Mechanisms**: Establish fair and transparent conflict resolution mechanisms to address disputes arising from the tension between individual and collective interests. This could include mediation processes, legal avenues, and restorative justice practices that consider the impact on both parties.\n",
       "\n",
       "4. **Flexible Policies**: Design policies that consider the diversity of circumstances among individuals while promoting the collective good. For example, subsidies for sustainable practices that individuals can opt into while still providing alternatives for those unable to participate.\n",
       "\n",
       "5. **Continuous Feedback Loops**: Create an adaptive governance model that welcomes feedback from citizens to assess policies' effectiveness concerning individual rights and collective needs, allowing for modifications based on real-world outcomes and experiences.\n",
       "\n",
       "By prioritizing these principles and approaches, the designed society can strive for harmony between individual aspirations and the overarching goal of collective sustainability and justice. This balance will require ongoing dialogue, compassion, and commitment from all members of the community.\n",
       "\n",
       "# Response from competitor 2\n",
       "\n",
       "Designing a society from scratch requires careful consideration of various factors to create a sustainable, equitable, and just community. Here are some core principles I would prioritize:\n",
       "\n",
       "1. **Inclusive Decision-Making**: Establish an inclusive decision-making process that empowers all members to participate in shaping the society's direction. This can be achieved through regular town hall meetings, citizen jury programs, or other transparent and accessible methods.\n",
       "2. **Decentralization and Autonomy**: Encourage decentralized decision-making authority at local levels, allowing communities to self-govern and tailor their needs to specific circumstances. This promotes local ownership, innovation, and adaptability.\n",
       "3. **Interconnectedness and Mutual Support**: Foster strong social networks and community ties by encouraging collective activities, shared resources, and mutual support systems. This can help build resilience, foster empathy, and promote a sense of belonging.\n",
       "4. **Environmental Stewardship**: Prioritize environmental sustainability through policies such as renewable energy adoption, eco-friendly infrastructure development, and sustainable agriculture practices. Emphasize education and awareness-raising initiatives to ensure all members share in the responsibility for maintaining the planet's well-being.\n",
       "5. **Digital Literacy and Accessibility**: Ensure affordable access to digital technologies, including computing devices, internet connectivity, and mobile phones. Develop programs to equate computer skills or even coding classes to provide equitable opportunities for participation and integration into modern society.\n",
       "6. **Equity and Justice**: Implement policies aimed at addressing historical injustices, such as reparations, affirmative action, and social welfare systems designed to ensure economic stability and equal treatment under the law.\n",
       "\n",
       "To balance individual rights with collective good, I would suggest:\n",
       "\n",
       "1. **Flexible Regulations framework**: Establish a regulatory system that is adaptable and open to revision based on emerging needs or changing circumstances.\n",
       "2. **Participatory Budgeting**: Implement participatory budgeting processes where citizens have direct input into funding priorities, reflecting community values on issues of social and economic distribution to build trust in institutions and stimulate equitable growth.\n",
       "3. **Hybrid Governance Models**: Explore hybrid governance models that blend elements of liberal democracy (e.g., the separation of powers) with collaborative, grassroots approaches like participatory economics or post-scarcity economies.\n",
       "4. **Holistic Education Programs**: Establish education systems that emphasize cross-disciplinary skills training (science-technology-arts-humanities-social sciences-compassionate empathy), developing interdependent thinking skills to foster cooperation as well as individual autonomy.\n",
       "5. Addressing systemic inequalities by targeting policy adjustments specifically towards marginalized groups: Incorporate inclusive decision-making processes, promote diversity and representation at all levels of governance, address the root causes of historical disparities with targeted support programs, and offer accessible pathways for upward social mobility where appropriate.\n",
       "\n",
       "By emphasizing these core principles and approaches, a society built from scratch can better prioritize sustainability, justice, and inclusivity for all its inhabitants. Implementing a responsive, adaptive regulatory structure and embracing hybrid governance models that blend the strengths of liberal democracy and grassroots collaboration can create systems that effectively balance individual rights and collective well-being.\n",
       "\n"
      ],
      "text/plain": [
       "<IPython.core.display.Markdown object>"
      ]
     },
     "metadata": {},
     "output_type": "display_data"
    }
   ],
   "source": [
    "display(Markdown(together))"
   ]
  },
  {
   "cell_type": "code",
   "execution_count": 24,
   "metadata": {},
   "outputs": [],
   "source": [
    "judge = f\"\"\"You are judging a competition between {len(competitors)} competitors.\n",
    "Each model has been given this question:\n",
    "\n",
    "{question}\n",
    "\n",
    "Your job is to evaluate each response for clarity and strength of argument, and rank them in order of best to worst.\n",
    "Respond with JSON, and only JSON, with the following format:\n",
    "{{\"results\": [\"best competitor number\", \"second best competitor number\", \"third best competitor number\", ...]}}\n",
    "\n",
    "Here are the responses from each competitor:\n",
    "\n",
    "{together}\n",
    "\n",
    "Now respond with the JSON with the ranked order of the competitors, nothing else. Do not include markdown formatting or code blocks.\"\"\"\n"
   ]
  },
  {
   "cell_type": "code",
   "execution_count": 26,
   "metadata": {},
   "outputs": [
    {
     "name": "stdout",
     "output_type": "stream",
     "text": [
      "You are judging a competition between 2 competitors.\n",
      "Each model has been given this question:\n",
      "\n",
      "If you could design a society from scratch, considering ethical, environmental, and technological factors, what core principles would you prioritize to ensure it is sustainable and just for all its inhabitants, and how would you approach the conflict between individual rights and collective good?\n",
      "\n",
      "Your job is to evaluate each response for clarity and strength of argument, and rank them in order of best to worst.\n",
      "Respond with JSON, and only JSON, with the following format:\n",
      "{\"results\": [\"best competitor number\", \"second best competitor number\", \"third best competitor number\", ...]}\n",
      "\n",
      "Here are the responses from each competitor:\n",
      "\n",
      "# Response from competitor 1\n",
      "\n",
      "Designing a society from scratch involves integrating a variety of principles that ensure sustainability, justice, and harmony among individuals while recognizing the crucial balance between individual rights and the collective good. Here are the core principles I would prioritize:\n",
      "\n",
      "### Core Principles\n",
      "\n",
      "1. **Sustainability**:\n",
      "   - **Environmental Stewardship**: Foster a deep respect for the planet by promoting renewable energy, sustainable agriculture, and conservation of biodiversity. Implement circular economy practices to minimize waste and resource depletion.\n",
      "   - **Resilience**: Design infrastructure and communities to be resilient to climate change and natural disasters, ensuring the longevity and adaptability of resources.\n",
      "\n",
      "2. **Equity and Justice**:\n",
      "   - **Social Equity**: Ensure equal access to resources, opportunities, and rights regardless of one's background. Create systems to identify and rectify injustices and disparities.\n",
      "   - **Participation**: Encourage active participation in decision-making processes at all levels, giving everyone a voice in shaping the policies that govern their lives.\n",
      "\n",
      "3. **Technological Integration**:\n",
      "   - **Accessible Technology**: Leverage technology to enhance quality of life, provide education, and improve healthcare. Ensure that technological advancements are accessible to all, not just a privileged few.\n",
      "   - **Ethical Innovation**: Establish guidelines for ethical development and use of technology, prioritizing transparency, privacy, and the well-being of individuals over profit.\n",
      "\n",
      "4. **Community and Connection**:\n",
      "   - **Social Cohesion**: Promote a strong sense of community by encouraging collaboration, empathy, and mutual support among individuals. Offer platforms for cultural exchange and understanding.\n",
      "   - **Education for All**: Provide holistic education that fosters critical thinking, emotional intelligence, and global citizenship, preparing individuals to contribute positively to society.\n",
      "\n",
      "5. **Holistic Well-being**:\n",
      "   - **Health and Mental Wellness**: Ensure access to healthcare, mental health resources, and a healthy work-life balance, recognizing the interconnectedness of physical, mental, and social health.\n",
      "   - **Cultural Appreciation**: Celebrate and protect diverse cultural identities, traditions, and languages, fostering a rich societal tapestry that enhances creativity and innovation.\n",
      "\n",
      "### Balancing Individual Rights and Collective Good\n",
      "\n",
      "1. **Deliberative Democracy**: Implement a system of governance that emphasizes deliberative democracy, where citizens engage in open dialogues to address conflicts between individual rights and collective needs. This could involve town hall meetings, citizen assemblies, and referendums for major decisions.\n",
      "\n",
      "2. **Rights with Responsibilities**: Promote the idea that individual rights come with responsibilities toward the community. For instance, while freedom of speech is protected, it should also be emphasized that this freedom must not infringe on others' rights or well-being.\n",
      "\n",
      "3. **Conflict Resolution Mechanisms**: Establish fair and transparent conflict resolution mechanisms to address disputes arising from the tension between individual and collective interests. This could include mediation processes, legal avenues, and restorative justice practices that consider the impact on both parties.\n",
      "\n",
      "4. **Flexible Policies**: Design policies that consider the diversity of circumstances among individuals while promoting the collective good. For example, subsidies for sustainable practices that individuals can opt into while still providing alternatives for those unable to participate.\n",
      "\n",
      "5. **Continuous Feedback Loops**: Create an adaptive governance model that welcomes feedback from citizens to assess policies' effectiveness concerning individual rights and collective needs, allowing for modifications based on real-world outcomes and experiences.\n",
      "\n",
      "By prioritizing these principles and approaches, the designed society can strive for harmony between individual aspirations and the overarching goal of collective sustainability and justice. This balance will require ongoing dialogue, compassion, and commitment from all members of the community.\n",
      "\n",
      "# Response from competitor 2\n",
      "\n",
      "Designing a society from scratch requires careful consideration of various factors to create a sustainable, equitable, and just community. Here are some core principles I would prioritize:\n",
      "\n",
      "1. **Inclusive Decision-Making**: Establish an inclusive decision-making process that empowers all members to participate in shaping the society's direction. This can be achieved through regular town hall meetings, citizen jury programs, or other transparent and accessible methods.\n",
      "2. **Decentralization and Autonomy**: Encourage decentralized decision-making authority at local levels, allowing communities to self-govern and tailor their needs to specific circumstances. This promotes local ownership, innovation, and adaptability.\n",
      "3. **Interconnectedness and Mutual Support**: Foster strong social networks and community ties by encouraging collective activities, shared resources, and mutual support systems. This can help build resilience, foster empathy, and promote a sense of belonging.\n",
      "4. **Environmental Stewardship**: Prioritize environmental sustainability through policies such as renewable energy adoption, eco-friendly infrastructure development, and sustainable agriculture practices. Emphasize education and awareness-raising initiatives to ensure all members share in the responsibility for maintaining the planet's well-being.\n",
      "5. **Digital Literacy and Accessibility**: Ensure affordable access to digital technologies, including computing devices, internet connectivity, and mobile phones. Develop programs to equate computer skills or even coding classes to provide equitable opportunities for participation and integration into modern society.\n",
      "6. **Equity and Justice**: Implement policies aimed at addressing historical injustices, such as reparations, affirmative action, and social welfare systems designed to ensure economic stability and equal treatment under the law.\n",
      "\n",
      "To balance individual rights with collective good, I would suggest:\n",
      "\n",
      "1. **Flexible Regulations framework**: Establish a regulatory system that is adaptable and open to revision based on emerging needs or changing circumstances.\n",
      "2. **Participatory Budgeting**: Implement participatory budgeting processes where citizens have direct input into funding priorities, reflecting community values on issues of social and economic distribution to build trust in institutions and stimulate equitable growth.\n",
      "3. **Hybrid Governance Models**: Explore hybrid governance models that blend elements of liberal democracy (e.g., the separation of powers) with collaborative, grassroots approaches like participatory economics or post-scarcity economies.\n",
      "4. **Holistic Education Programs**: Establish education systems that emphasize cross-disciplinary skills training (science-technology-arts-humanities-social sciences-compassionate empathy), developing interdependent thinking skills to foster cooperation as well as individual autonomy.\n",
      "5. Addressing systemic inequalities by targeting policy adjustments specifically towards marginalized groups: Incorporate inclusive decision-making processes, promote diversity and representation at all levels of governance, address the root causes of historical disparities with targeted support programs, and offer accessible pathways for upward social mobility where appropriate.\n",
      "\n",
      "By emphasizing these core principles and approaches, a society built from scratch can better prioritize sustainability, justice, and inclusivity for all its inhabitants. Implementing a responsive, adaptive regulatory structure and embracing hybrid governance models that blend the strengths of liberal democracy and grassroots collaboration can create systems that effectively balance individual rights and collective well-being.\n",
      "\n",
      "\n",
      "\n",
      "Now respond with the JSON with the ranked order of the competitors, nothing else. Do not include markdown formatting or code blocks.\n"
     ]
    }
   ],
   "source": [
    "print(judge)"
   ]
  },
  {
   "cell_type": "code",
   "execution_count": 27,
   "metadata": {},
   "outputs": [],
   "source": [
    "judge_messages = [{\"role\": \"user\", \"content\": judge}]"
   ]
  },
  {
   "cell_type": "code",
   "execution_count": 28,
   "metadata": {},
   "outputs": [
    {
     "name": "stdout",
     "output_type": "stream",
     "text": [
      "{\"results\": [\"1\", \"2\"]}\n"
     ]
    }
   ],
   "source": [
    "# Judgement time!\n",
    "\n",
    "openai = OpenAI()\n",
    "response = openai.chat.completions.create(\n",
    "    model=\"o3-mini\",\n",
    "    messages=judge_messages,\n",
    ")\n",
    "results = response.choices[0].message.content\n",
    "print(results)"
   ]
  },
  {
   "cell_type": "code",
   "execution_count": 29,
   "metadata": {},
   "outputs": [
    {
     "name": "stdout",
     "output_type": "stream",
     "text": [
      "Rank 1: gpt-4o-mini\n",
      "Rank 2: llama3.2\n"
     ]
    }
   ],
   "source": [
    "# OK let's turn this into results!\n",
    "results_dict = json.loads(results)\n",
    "ranks = results_dict[\"results\"]\n",
    "for index, result in enumerate(ranks):\n",
    "    competitor = competitors[int(result)-1]\n",
    "    print(f\"Rank {index+1}: {competitor}\")"
   ]
  },
  {
   "cell_type": "markdown",
   "metadata": {},
   "source": [
    "<table style=\"margin: 0; text-align: left; width:100%\">\n",
    "    <tr>\n",
    "        <td style=\"width: 150px; height: 150px; vertical-align: middle;\">\n",
    "            <img src=\"../assets/exercise.png\" width=\"150\" height=\"150\" style=\"display: block;\" />\n",
    "        </td>\n",
    "        <td>\n",
    "            <h2 style=\"color:#ff7800;\">Exercise</h2>\n",
    "            <span style=\"color:#ff7800;\">Which pattern(s) did this use? Try updating this to add another Agentic design pattern.\n",
    "            </span>\n",
    "        </td>\n",
    "    </tr>\n",
    "</table>"
   ]
  },
  {
   "cell_type": "markdown",
   "metadata": {},
   "source": [
    "<table style=\"margin: 0; text-align: left; width:100%\">\n",
    "    <tr>\n",
    "        <td style=\"width: 150px; height: 150px; vertical-align: middle;\">\n",
    "            <img src=\"../assets/business.png\" width=\"150\" height=\"150\" style=\"display: block;\" />\n",
    "        </td>\n",
    "        <td>\n",
    "            <h2 style=\"color:#00bfff;\">Commercial implications</h2>\n",
    "            <span style=\"color:#00bfff;\">These kinds of patterns - to send a task to multiple models, and evaluate results,\n",
    "            are common where you need to improve the quality of your LLM response. This approach can be universally applied\n",
    "            to business projects where accuracy is critical.\n",
    "            </span>\n",
    "        </td>\n",
    "    </tr>\n",
    "</table>"
   ]
  }
 ],
 "metadata": {
  "kernelspec": {
   "display_name": "agents",
   "language": "python",
   "name": "python3"
  },
  "language_info": {
   "codemirror_mode": {
    "name": "ipython",
    "version": 3
   },
   "file_extension": ".py",
   "mimetype": "text/x-python",
   "name": "python",
   "nbconvert_exporter": "python",
   "pygments_lexer": "ipython3",
   "version": "3.12.11"
  }
 },
 "nbformat": 4,
 "nbformat_minor": 2
}
